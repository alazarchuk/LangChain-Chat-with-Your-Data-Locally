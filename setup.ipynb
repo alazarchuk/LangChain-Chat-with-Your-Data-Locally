{
 "cells": [
  {
   "cell_type": "code",
   "execution_count": null,
   "metadata": {},
   "outputs": [],
   "source": [
    "!python3 -m venv .venv"
   ]
  },
  {
   "cell_type": "markdown",
   "metadata": {},
   "source": [
    "## VSCode\n",
    "\n",
    "If you are running it in VSCode you should select freshly created virtual env in your envs dropdown on right top corner"
   ]
  },
  {
   "cell_type": "markdown",
   "metadata": {},
   "source": [
    "## Installing dependencies"
   ]
  },
  {
   "cell_type": "code",
   "execution_count": null,
   "metadata": {},
   "outputs": [],
   "source": [
    "!pip uninstall -y langchain python-dotenv pypdf yt_dlp pydub tiktoken chromadb lark llama-cpp-python youtube-transcript-api pytube bs4\n",
    "!pip install langchain python-dotenv pypdf yt_dlp pydub tiktoken chromadb lark llama-cpp-python youtube-transcript-api pytube bs4"
   ]
  },
  {
   "cell_type": "markdown",
   "metadata": {},
   "source": [
    "## Testing Local Inference\n",
    "\n",
    "Now you should create .env file and add path to model that llama-cpp understands"
   ]
  },
  {
   "cell_type": "code",
   "execution_count": null,
   "metadata": {},
   "outputs": [],
   "source": [
    "import os\n",
    "from llama_cpp import Llama\n",
    "\n",
    "from dotenv import load_dotenv, find_dotenv\n",
    "_ = load_dotenv(find_dotenv()) # read local .env file\n",
    "\n",
    "llm = Llama(model_path=os.environ['MODEL_PATH'])\n",
    "output = llm(\n",
    "      os.environ['PROMPT_TEMPLATE'].format(prompt=\"Name the planets in the solar system?\"), # Prompt\n",
    "      max_tokens=1024, # Generate up to 1024 tokens\n",
    "      echo=False\n",
    ") # Generate a completion, can also call create_completion"
   ]
  },
  {
   "cell_type": "code",
   "execution_count": null,
   "metadata": {},
   "outputs": [],
   "source": [
    "from pprint import pprint\n",
    "pprint(output)"
   ]
  }
 ],
 "metadata": {
  "kernelspec": {
   "display_name": "Python 3",
   "language": "python",
   "name": "python3"
  },
  "language_info": {
   "codemirror_mode": {
    "name": "ipython",
    "version": 3
   },
   "file_extension": ".py",
   "mimetype": "text/x-python",
   "name": "python",
   "nbconvert_exporter": "python",
   "pygments_lexer": "ipython3",
   "version": "3.10.12"
  }
 },
 "nbformat": 4,
 "nbformat_minor": 2
}
